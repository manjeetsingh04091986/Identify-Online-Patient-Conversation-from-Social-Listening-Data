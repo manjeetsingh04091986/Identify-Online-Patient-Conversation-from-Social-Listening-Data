{
 "cells": [
  {
   "cell_type": "code",
   "execution_count": 1,
   "metadata": {},
   "outputs": [
    {
     "name": "stderr",
     "output_type": "stream",
     "text": [
      "Loading required package: lattice\n",
      "Loading required package: ggplot2\n",
      "Warning message:\n",
      "\"package 'ggplot2' was built under R version 3.4.4\"Loading required package: NLP\n",
      "\n",
      "Attaching package: 'NLP'\n",
      "\n",
      "The following object is masked from 'package:ggplot2':\n",
      "\n",
      "    annotate\n",
      "\n",
      "Warning message:\n",
      "\"package 'RWeka' was built under R version 3.4.4\"\n",
      "Attaching package: 'RWeka'\n",
      "\n",
      "The following object is masked from 'package:caTools':\n",
      "\n",
      "    LogitBoost\n",
      "\n",
      "\n",
      "Attaching package: 'dplyr'\n",
      "\n",
      "The following object is masked from 'package:xgboost':\n",
      "\n",
      "    slice\n",
      "\n",
      "The following objects are masked from 'package:stats':\n",
      "\n",
      "    filter, lag\n",
      "\n",
      "The following objects are masked from 'package:base':\n",
      "\n",
      "    intersect, setdiff, setequal, union\n",
      "\n",
      "Warning message:\n",
      "\"package 'tidyr' was built under R version 3.4.4\"Warning message:\n",
      "\"package 'data.table' was built under R version 3.4.4\"\n",
      "Attaching package: 'data.table'\n",
      "\n",
      "The following objects are masked from 'package:dplyr':\n",
      "\n",
      "    between, first, last\n",
      "\n",
      "\n",
      "Attaching package: 'purrr'\n",
      "\n",
      "The following object is masked from 'package:jsonlite':\n",
      "\n",
      "    flatten\n",
      "\n",
      "The following object is masked from 'package:data.table':\n",
      "\n",
      "    transpose\n",
      "\n",
      "The following object is masked from 'package:caret':\n",
      "\n",
      "    lift\n",
      "\n",
      "Warning message:\n",
      "\"package 'RecordLinkage' was built under R version 3.4.4\"Loading required package: DBI\n",
      "Warning message:\n",
      "\"package 'DBI' was built under R version 3.4.4\"Loading required package: RSQLite\n",
      "Warning message:\n",
      "\"package 'RSQLite' was built under R version 3.4.4\"Loading required package: ff\n",
      "Warning message:\n",
      "\"package 'ff' was built under R version 3.4.4\"Loading required package: bit\n",
      "Warning message:\n",
      "\"package 'bit' was built under R version 3.4.4\"Attaching package bit\n",
      "package:bit (c) 2008-2012 Jens Oehlschlaegel (GPL-2)\n",
      "creators: bit bitwhich\n",
      "coercion: as.logical as.integer as.bit as.bitwhich which\n",
      "operator: ! & | xor != ==\n",
      "querying: print length any all min max range sum summary\n",
      "bit access: length<- [ [<- [[ [[<-\n",
      "for more help type ?bit\n",
      "\n",
      "Attaching package: 'bit'\n",
      "\n",
      "The following object is masked from 'package:data.table':\n",
      "\n",
      "    setattr\n",
      "\n",
      "The following object is masked from 'package:base':\n",
      "\n",
      "    xor\n",
      "\n",
      "Attaching package ff\n",
      "- getOption(\"fftempdir\")==\"C:/Users/MANJEE~1.SIN/AppData/Local/Temp/Rtmpekm07R\"\n",
      "\n",
      "- getOption(\"ffextension\")==\"ff\"\n",
      "\n",
      "- getOption(\"ffdrop\")==TRUE\n",
      "\n",
      "- getOption(\"fffinonexit\")==TRUE\n",
      "\n",
      "- getOption(\"ffpagesize\")==65536\n",
      "\n",
      "- getOption(\"ffcaching\")==\"mmnoflush\"  -- consider \"ffeachflush\" if your system stalls on large writes\n",
      "\n",
      "- getOption(\"ffbatchbytes\")==168611020.8 -- consider a different value for tuning your system\n",
      "\n",
      "- getOption(\"ffmaxbytes\")==8430551040 -- consider a different value for tuning your system\n",
      "\n",
      "\n",
      "Attaching package: 'ff'\n",
      "\n",
      "The following objects are masked from 'package:bit':\n",
      "\n",
      "    clone, clone.default, clone.list\n",
      "\n",
      "The following objects are masked from 'package:utils':\n",
      "\n",
      "    write.csv, write.csv2\n",
      "\n",
      "The following objects are masked from 'package:base':\n",
      "\n",
      "    is.factor, is.ordered\n",
      "\n",
      "Loading required package: ffbase\n",
      "Warning message:\n",
      "\"package 'ffbase' was built under R version 3.4.4\"\n",
      "Attaching package: 'ffbase'\n",
      "\n",
      "The following objects are masked from 'package:ff':\n",
      "\n",
      "    [.ff, [.ffdf, [<-.ff, [<-.ffdf\n",
      "\n",
      "The following objects are masked from 'package:base':\n",
      "\n",
      "    %in%, table\n",
      "\n",
      "RecordLinkage library\n",
      "[c] IMBEI Mainz\n",
      "\n",
      "\n",
      "Attaching package: 'RecordLinkage'\n",
      "\n",
      "The following object is masked from 'package:ff':\n",
      "\n",
      "    clone\n",
      "\n",
      "The following object is masked from 'package:bit':\n",
      "\n",
      "    clone\n",
      "\n"
     ]
    }
   ],
   "source": [
    "library(caret)\n",
    "library(tm)\n",
    "library(caTools)\n",
    "library(xgboost)\n",
    "library(RWeka)\n",
    "library(dplyr)\n",
    "library(tidyr)\n",
    "library(data.table)\n",
    "library(jsonlite)\n",
    "library(purrr)\n",
    "library(RecordLinkage)\n",
    "library(stringr)\n",
    "library(tm)"
   ]
  },
  {
   "cell_type": "markdown",
   "metadata": {},
   "source": [
    "Import the Dataset"
   ]
  },
  {
   "cell_type": "code",
   "execution_count": 2,
   "metadata": {},
   "outputs": [
    {
     "name": "stdout",
     "output_type": "stream",
     "text": [
      "Observations: 1,157\n",
      "Variables: 9\n",
      "$ Source          <chr> \"FORUMS\", \"FORUMS\", \"BLOG\", \"FORUMS\", \"FORUMS\", \"FO...\n",
      "$ Host            <chr> \"cafepharma.com\", \"www.patient.co.uk\", \"http://abcn...\n",
      "$ Link            <chr> \"http://cafepharma.com/boards/threads/epstein.59631...\n",
      "$ Date.ET.        <chr> \"6/15/2016\", \"5/7/2016\", \"4/14/2016\", \"6/18/2016\", ...\n",
      "$ Time.ET.        <chr> \"13:58:00\", \"0.820833333\", \"15:00:38\", \"20:46:00\", ...\n",
      "$ time.GMT.       <chr> \"6/15/2016 23:28\", \"42498.21667\", \"4/15/2016 0:30\",...\n",
      "$ Title           <chr> \"Epstein\", \"Enlarged Heart.Thread Enlarged Heart\", ...\n",
      "$ TRANS_CONV_TEXT <chr> \"I don't disagree with you in principle. I'm just s...\n",
      "$ Patient_Tag     <int> 0, 1, 0, 1, 0, 0, 1, 0, 0, 0, 1, 0, 0, 0, 1, 0, 0, ...\n"
     ]
    },
    {
     "data": {
      "text/html": [
       "<ol class=list-inline>\n",
       "\t<li>1157</li>\n",
       "\t<li>9</li>\n",
       "</ol>\n"
      ],
      "text/latex": [
       "\\begin{enumerate*}\n",
       "\\item 1157\n",
       "\\item 9\n",
       "\\end{enumerate*}\n"
      ],
      "text/markdown": [
       "1. 1157\n",
       "2. 9\n",
       "\n",
       "\n"
      ],
      "text/plain": [
       "[1] 1157    9"
      ]
     },
     "metadata": {},
     "output_type": "display_data"
    }
   ],
   "source": [
    "train <-read.csv(\"C:/Users/manjeet.singh/Desktop/dataset/train.csv\", stringsAsFactors = FALSE, na.strings = c(\"\",\" \",\"NA\"))\n",
    "glimpse(train)\n",
    "setDT(train)\n",
    "dim(train)"
   ]
  },
  {
   "cell_type": "code",
   "execution_count": 3,
   "metadata": {},
   "outputs": [
    {
     "name": "stdout",
     "output_type": "stream",
     "text": [
      "Observations: 571\n",
      "Variables: 10\n",
      "$ Index           <int> 1, 2, 3, 4, 5, 6, 7, 8, 9, 10, 11, 12, 13, 14, 15, ...\n",
      "$ Source          <chr> \"BLOG\", \"FORUMS\", \"BLOG\", \"FORUMS\", \"BLOG\", \"Facebo...\n",
      "$ Host            <chr> \"uhmagonline.com\", \"implantinformationnetwork.yuku....\n",
      "$ Link            <chr> \"http://uhmagonline.com/son-of-the-late-kimbo-slice...\n",
      "$ Date.ET.        <chr> \"7/30/2016\", \"6/20/2016\", \"6/15/2016\", \"7/17/2016\",...\n",
      "$ Time.ET.        <chr> \"0:41:23\", \"0:07:30\", \"15:44:00\", \"19:41:00\", \"15:3...\n",
      "$ time.GMT.       <chr> NA, \"6/20/2016 9:37\", \"6/16/2016 1:14\", NA, \"4/5/20...\n",
      "$ Title           <chr> NA, \"My Story --\", \"US FDA ?????canagliflozin?dapag...\n",
      "$ TRANS_CONV_TEXT <chr> \"Baby Slice, the son of the late Kimbo Slice, has s...\n",
      "$ X               <chr> NA, NA, NA, NA, NA, NA, NA, NA, NA, NA, NA, NA, NA,...\n"
     ]
    },
    {
     "data": {
      "text/html": [
       "<ol class=list-inline>\n",
       "\t<li>571</li>\n",
       "\t<li>10</li>\n",
       "</ol>\n"
      ],
      "text/latex": [
       "\\begin{enumerate*}\n",
       "\\item 571\n",
       "\\item 10\n",
       "\\end{enumerate*}\n"
      ],
      "text/markdown": [
       "1. 571\n",
       "2. 10\n",
       "\n",
       "\n"
      ],
      "text/plain": [
       "[1] 571  10"
      ]
     },
     "metadata": {},
     "output_type": "display_data"
    }
   ],
   "source": [
    "test <- read.csv(\"C:/Users/manjeet.singh/Desktop/dataset/test.csv\", stringsAsFactors = FALSE, na.strings = c(\"\",\" \",\"NA\"))\n",
    "glimpse(test)\n",
    "setDT(test)\n",
    "dim(test)"
   ]
  },
  {
   "cell_type": "markdown",
   "metadata": {},
   "source": [
    "Data Cleaning\n"
   ]
  },
  {
   "cell_type": "code",
   "execution_count": 5,
   "metadata": {},
   "outputs": [],
   "source": [
    "test$Patient_Tag<-NA\n",
    "tr <- train[,.(Patient_Tag,TRANS_CONV_TEXT,Title)]\n",
    "ts <-test[,.(Patient_Tag,TRANS_CONV_TEXT,Title)]\n",
    "\n",
    "tdata <- rbindlist(list(tr,ts))"
   ]
  },
  {
   "cell_type": "code",
   "execution_count": 6,
   "metadata": {},
   "outputs": [
    {
     "data": {},
     "metadata": {},
     "output_type": "display_data"
    },
    {
     "data": {},
     "metadata": {},
     "output_type": "display_data"
    }
   ],
   "source": [
    "tdata[,Trans_count := str_count(TRANS_CONV_TEXT,pattern = \"\\\\w+\")]\n",
    "tdata[,Trans_len := str_count(TRANS_CONV_TEXT)]"
   ]
  },
  {
   "cell_type": "code",
   "execution_count": 7,
   "metadata": {},
   "outputs": [
    {
     "data": {},
     "metadata": {},
     "output_type": "display_data"
    },
    {
     "data": {},
     "metadata": {},
     "output_type": "display_data"
    }
   ],
   "source": [
    "tdata[, Title_count:= str_count(Title,pattern = \"\\\\w+\")]\n",
    "tdata[,Title_len := str_count(Title)]\n"
   ]
  },
  {
   "cell_type": "markdown",
   "metadata": {},
   "source": [
    "LevenshteinDist returns the Levenshtein distance.Compute the approximate string distance between character vectors"
   ]
  },
  {
   "cell_type": "code",
   "execution_count": 8,
   "metadata": {},
   "outputs": [
    {
     "data": {},
     "metadata": {},
     "output_type": "display_data"
    }
   ],
   "source": [
    "tdata[,lev_Text_Title := levenshteinDist(TRANS_CONV_TEXT,Title)]\n"
   ]
  },
  {
   "cell_type": "markdown",
   "metadata": {},
   "source": [
    "Text Mining\n"
   ]
  },
  {
   "cell_type": "code",
   "execution_count": 9,
   "metadata": {},
   "outputs": [
    {
     "name": "stdout",
     "output_type": "stream",
     "text": [
      "<<SimpleCorpus>>\n",
      "Metadata:  corpus specific: 1, document level (indexed): 0\n",
      "Content:  documents: 1\n",
      "\n",
      "[1] I don't disagree with you in principle. I'm just saying that Entresto has been a major failure of Novartis commercial organisation. They (Novartis) were totally exposed at Q1 call. With reimbursement issues being resolved, the true underlying problem with Entresto was unveiled: Novartis failed to create the demand for the drug. Their disease-awareness campaign in the US (the drowning man) was incredibly poor (fear- and panic-inducing). What is more, they advertised the wrong condition. They were raising awareness of life-threatening ACUTE heart failure instead of CHRONIC heart failure, for which Entresto is indicated. Entresto has nothing to do with the treatment of acute heart failure. If that was not due to their shocking lack of knowledge of the disease area, it can only be explained as a conscious misleading of patients. They managed to alienate medical community, advocacy groups and top KOLs, including their own principal investigator in Entresto trials who publicly expressed his concerns. It?s unheard of. But it provides clues as to what actually happened. An incompetent strategic marketing team establishes the wrong go-to-market model based on wrong market assumptions. And they persistently kept going in the wrong direction, completely oblivious to the extent of their own incompetence. It's a typical example of ignorance bias (\"Ignorance more frequently begets confidence than does knowledge?). If it wasn?t for the analysts who were challenging Novartis in public, who knows how long they would have continued to be in denial. It is stunning that Novartis, once a leading cardiovascular company, bombed the launch of a cardiovascular primary care product - a combo of their own Diovan. With this, they discovered a new low. David was let down by his own people. He trusted them, but he should have known better. His hands-off management style didn?t work at Novartis Pharma (in contrast to Oncology). It?s a toxic culture, populated with yes people, where competences and skills are not valued or required for promotion. It is strange though that after so many years in operational positions, Joerg seemingly stayed uninvolved. At least that's how it looks from the outside.\n"
     ]
    }
   ],
   "source": [
    "text_corpus <- Corpus(VectorSource(tdata$TRANS_CONV_TEXT))\n",
    "inspect(text_corpus[1])\n",
    "\n",
    "text_corpus <- tm_map(text_corpus, tolower)\n",
    "text_corpus <- tm_map(text_corpus, removePunctuation)\n",
    "text_corpus <- tm_map(text_corpus, removeNumbers)\n",
    "text_corpus <- tm_map(text_corpus, stripWhitespace)\n",
    "text_corpus <- tm_map(text_corpus, removeWords, c(stopwords('english')))\n",
    "text_corpus <- tm_map(text_corpus, stemDocument,language = \"english\")\n"
   ]
  },
  {
   "cell_type": "markdown",
   "metadata": {},
   "source": [
    "Trigram Function"
   ]
  },
  {
   "cell_type": "code",
   "execution_count": 11,
   "metadata": {},
   "outputs": [],
   "source": [
    "Trigram_Tokenizer <- function(x){\n",
    "  NGramTokenizer(x, Weka_control(min=3, max=3))\n",
    "}"
   ]
  },
  {
   "cell_type": "markdown",
   "metadata": {},
   "source": [
    "Create a matrix"
   ]
  },
  {
   "cell_type": "code",
   "execution_count": 12,
   "metadata": {},
   "outputs": [
    {
     "data": {
      "text/html": [
       "<ol class=list-inline>\n",
       "\t<li>1728</li>\n",
       "\t<li>22504</li>\n",
       "</ol>\n"
      ],
      "text/latex": [
       "\\begin{enumerate*}\n",
       "\\item 1728\n",
       "\\item 22504\n",
       "\\end{enumerate*}\n"
      ],
      "text/markdown": [
       "1. 1728\n",
       "2. 22504\n",
       "\n",
       "\n"
      ],
      "text/plain": [
       "[1]  1728 22504"
      ]
     },
     "metadata": {},
     "output_type": "display_data"
    }
   ],
   "source": [
    "docterm_corpus <- DocumentTermMatrix(text_corpus, control = list(tokenize = Trigram_Tokenizer))\n",
    "dim(docterm_corpus)"
   ]
  },
  {
   "cell_type": "code",
   "execution_count": 14,
   "metadata": {},
   "outputs": [
    {
     "data": {
      "text/html": [
       "<ol class=list-inline>\n",
       "\t<li>1728</li>\n",
       "\t<li>1873</li>\n",
       "</ol>\n"
      ],
      "text/latex": [
       "\\begin{enumerate*}\n",
       "\\item 1728\n",
       "\\item 1873\n",
       "\\end{enumerate*}\n"
      ],
      "text/markdown": [
       "1. 1728\n",
       "2. 1873\n",
       "\n",
       "\n"
      ],
      "text/plain": [
       "[1] 1728 1873"
      ]
     },
     "metadata": {},
     "output_type": "display_data"
    }
   ],
   "source": [
    "new_docterm_corpus <- removeSparseTerms(docterm_corpus,sparse = 0.99)\n",
    "dim(new_docterm_corpus)\n"
   ]
  },
  {
   "cell_type": "code",
   "execution_count": 15,
   "metadata": {},
   "outputs": [
    {
     "data": {
      "text/html": [
       "1873"
      ],
      "text/latex": [
       "1873"
      ],
      "text/markdown": [
       "1873"
      ],
      "text/plain": [
       "[1] 1873"
      ]
     },
     "metadata": {},
     "output_type": "display_data"
    }
   ],
   "source": [
    "colS <- colSums(as.matrix(new_docterm_corpus))\n",
    "length(colS)"
   ]
  },
  {
   "cell_type": "code",
   "execution_count": 16,
   "metadata": {},
   "outputs": [],
   "source": [
    "doc_features <- data.table(name = attributes(colS)$names, count = colS)"
   ]
  },
  {
   "cell_type": "code",
   "execution_count": 17,
   "metadata": {},
   "outputs": [
    {
     "data": {
      "text/html": [
       "<table>\n",
       "<thead><tr><th scope=col>name</th><th scope=col>count</th></tr></thead>\n",
       "<tbody>\n",
       "\t<tr><td>heart  </td><td>4960   </td></tr>\n",
       "\t<tr><td>failur </td><td>2357   </td></tr>\n",
       "\t<tr><td>patient</td><td>1925   </td></tr>\n",
       "\t<tr><td>can    </td><td>1850   </td></tr>\n",
       "\t<tr><td>diseas </td><td>1507   </td></tr>\n",
       "\t<tr><td>blood  </td><td>1490   </td></tr>\n",
       "\t<tr><td>studi  </td><td>1333   </td></tr>\n",
       "\t<tr><td>will   </td><td>1275   </td></tr>\n",
       "\t<tr><td>use    </td><td>1196   </td></tr>\n",
       "\t<tr><td>also   </td><td>1155   </td></tr>\n",
       "</tbody>\n",
       "</table>\n"
      ],
      "text/latex": [
       "\\begin{tabular}{r|ll}\n",
       " name & count\\\\\n",
       "\\hline\n",
       "\t heart   & 4960   \\\\\n",
       "\t failur  & 2357   \\\\\n",
       "\t patient & 1925   \\\\\n",
       "\t can     & 1850   \\\\\n",
       "\t diseas  & 1507   \\\\\n",
       "\t blood   & 1490   \\\\\n",
       "\t studi   & 1333   \\\\\n",
       "\t will    & 1275   \\\\\n",
       "\t use     & 1196   \\\\\n",
       "\t also    & 1155   \\\\\n",
       "\\end{tabular}\n"
      ],
      "text/markdown": [
       "\n",
       "name | count | \n",
       "|---|---|---|---|---|---|---|---|---|---|\n",
       "| heart   | 4960    | \n",
       "| failur  | 2357    | \n",
       "| patient | 1925    | \n",
       "| can     | 1850    | \n",
       "| diseas  | 1507    | \n",
       "| blood   | 1490    | \n",
       "| studi   | 1333    | \n",
       "| will    | 1275    | \n",
       "| use     | 1196    | \n",
       "| also    | 1155    | \n",
       "\n",
       "\n"
      ],
      "text/plain": [
       "   name    count\n",
       "1  heart   4960 \n",
       "2  failur  2357 \n",
       "3  patient 1925 \n",
       "4  can     1850 \n",
       "5  diseas  1507 \n",
       "6  blood   1490 \n",
       "7  studi   1333 \n",
       "8  will    1275 \n",
       "9  use     1196 \n",
       "10 also    1155 "
      ]
     },
     "metadata": {},
     "output_type": "display_data"
    },
    {
     "data": {
      "text/html": [
       "<table>\n",
       "<thead><tr><th scope=col>name</th><th scope=col>count</th></tr></thead>\n",
       "<tbody>\n",
       "\t<tr><td>oblig   </td><td>18      </td></tr>\n",
       "\t<tr><td>skill   </td><td>19      </td></tr>\n",
       "\t<tr><td>intestin</td><td>19      </td></tr>\n",
       "\t<tr><td>divid   </td><td>19      </td></tr>\n",
       "\t<tr><td>opt     </td><td>19      </td></tr>\n",
       "\t<tr><td>expertis</td><td>19      </td></tr>\n",
       "\t<tr><td>somewher</td><td>19      </td></tr>\n",
       "\t<tr><td>withdraw</td><td>19      </td></tr>\n",
       "\t<tr><td>magic   </td><td>19      </td></tr>\n",
       "\t<tr><td>input   </td><td>19      </td></tr>\n",
       "</tbody>\n",
       "</table>\n"
      ],
      "text/latex": [
       "\\begin{tabular}{r|ll}\n",
       " name & count\\\\\n",
       "\\hline\n",
       "\t oblig    & 18      \\\\\n",
       "\t skill    & 19      \\\\\n",
       "\t intestin & 19      \\\\\n",
       "\t divid    & 19      \\\\\n",
       "\t opt      & 19      \\\\\n",
       "\t expertis & 19      \\\\\n",
       "\t somewher & 19      \\\\\n",
       "\t withdraw & 19      \\\\\n",
       "\t magic    & 19      \\\\\n",
       "\t input    & 19      \\\\\n",
       "\\end{tabular}\n"
      ],
      "text/markdown": [
       "\n",
       "name | count | \n",
       "|---|---|---|---|---|---|---|---|---|---|\n",
       "| oblig    | 18       | \n",
       "| skill    | 19       | \n",
       "| intestin | 19       | \n",
       "| divid    | 19       | \n",
       "| opt      | 19       | \n",
       "| expertis | 19       | \n",
       "| somewher | 19       | \n",
       "| withdraw | 19       | \n",
       "| magic    | 19       | \n",
       "| input    | 19       | \n",
       "\n",
       "\n"
      ],
      "text/plain": [
       "   name     count\n",
       "1  oblig    18   \n",
       "2  skill    19   \n",
       "3  intestin 19   \n",
       "4  divid    19   \n",
       "5  opt      19   \n",
       "6  expertis 19   \n",
       "7  somewher 19   \n",
       "8  withdraw 19   \n",
       "9  magic    19   \n",
       "10 input    19   "
      ]
     },
     "metadata": {},
     "output_type": "display_data"
    }
   ],
   "source": [
    "doc_features[order(-count)][1:10] #top 10 most frequent words\n",
    "doc_features[order(count)][1:10] #least 10 freuqnet"
   ]
  },
  {
   "cell_type": "markdown",
   "metadata": {},
   "source": [
    "Create a wordcloud"
   ]
  },
  {
   "cell_type": "code",
   "execution_count": 18,
   "metadata": {},
   "outputs": [
    {
     "name": "stderr",
     "output_type": "stream",
     "text": [
      "Loading required package: RColorBrewer\n"
     ]
    },
    {
     "data": {
      "image/png": "[encoded data removed]",
      "text/plain": [
       "plot without title"
      ]
     },
     "metadata": {},
     "output_type": "display_data"
    }
   ],
   "source": [
    "library(wordcloud)\n",
    "#this wordcloud is exported\n",
    "wordcloud(names(colS), colS, min.freq = 5000, scale = c(6,.1), colors = brewer.pal(6, 'Dark2'))"
   ]
  },
  {
   "cell_type": "code",
   "execution_count": 19,
   "metadata": {},
   "outputs": [],
   "source": [
    "processed_data <- as.data.table(as.matrix(new_docterm_corpus))\n",
    "data_one <- cbind(data.table(Patient_Tag = tdata$Patient_Tag),processed_data)"
   ]
  },
  {
   "cell_type": "markdown",
   "metadata": {},
   "source": [
    "Split the data set into train and test\n"
   ]
  },
  {
   "cell_type": "code",
   "execution_count": 20,
   "metadata": {},
   "outputs": [
    {
     "name": "stderr",
     "output_type": "stream",
     "text": [
      "Warning message:\n",
      "\"`as_dictionary()` is soft-deprecated as of rlang 0.3.0.\n",
      "Please use `as_data_pronoun()` instead\n",
      "This warning is displayed once per session.\"Warning message:\n",
      "\"`new_overscope()` is soft-deprecated as of rlang 0.2.0.\n",
      "Please use `new_data_mask()` instead\n",
      "This warning is displayed once per session.\"Warning message:\n",
      "\"The `parent` argument of `new_data_mask()` is deprecated.\n",
      "The parent of the data mask is determined from either:\n",
      "\n",
      "  * The `env` argument of `eval_tidy()`\n",
      "  * Quosure environments when applicable\n",
      "This warning is displayed once per session.\"Warning message:\n",
      "\"`overscope_clean()` is soft-deprecated as of rlang 0.2.0.\n",
      "This warning is displayed once per session.\""
     ]
    }
   ],
   "source": [
    "train_one<-filter(data_one, Patient_Tag !=\"NA\")\n",
    "test_one <- data_one[1158:nrow(tdata),]"
   ]
  },
  {
   "cell_type": "code",
   "execution_count": 21,
   "metadata": {},
   "outputs": [],
   "source": [
    "train$Patient_Tag<-as.factor(train_one$Patient_Tag)"
   ]
  },
  {
   "cell_type": "code",
   "execution_count": 22,
   "metadata": {},
   "outputs": [],
   "source": [
    "#returns 70% indexes from train data\n",
    "sp <- sample.split(Y = train_one$Patient_Tag ,SplitRatio = 0.7)"
   ]
  },
  {
   "cell_type": "code",
   "execution_count": 23,
   "metadata": {},
   "outputs": [],
   "source": [
    "setDT(train_one)\n",
    "setDT(test_one)"
   ]
  },
  {
   "cell_type": "markdown",
   "metadata": {},
   "source": [
    "Create data for xgboost"
   ]
  },
  {
   "cell_type": "code",
   "execution_count": 24,
   "metadata": {},
   "outputs": [],
   "source": [
    "xg_val <- train_one[sp]\n",
    "target <- train_one$Patient_Tag\n",
    "xg_val_target <- target[sp]"
   ]
  },
  {
   "cell_type": "code",
   "execution_count": 25,
   "metadata": {},
   "outputs": [],
   "source": [
    "d_train <- xgb.DMatrix(data = as.matrix(train_one[,-c(\"Patient_Tag\")]),label = target)\n",
    "d_val <- xgb.DMatrix(data = as.matrix(xg_val[,-c(\"Patient_Tag\")]), label = xg_val_target)\n",
    "d_test <- xgb.DMatrix(data = as.matrix(test_one[,-c(\"Patient_Tag\")]))"
   ]
  },
  {
   "cell_type": "code",
   "execution_count": 26,
   "metadata": {},
   "outputs": [],
   "source": [
    "param <- list(booster=\"gbtree\",\n",
    "              objective=\"reg:logistic\",\n",
    "              gamma=5,\n",
    "              eval_metric=\"auc\",\n",
    "              eta = 0.02)"
   ]
  },
  {
   "cell_type": "code",
   "execution_count": 27,
   "metadata": {},
   "outputs": [],
   "source": [
    "set.seed(2017)\n",
    "watch <- list(val=d_val, train=d_train)"
   ]
  },
  {
   "cell_type": "code",
   "execution_count": 28,
   "metadata": {},
   "outputs": [
    {
     "name": "stdout",
     "output_type": "stream",
     "text": [
      "[1]\tval-auc:0.792242\ttrain-auc:0.791794 \n",
      "[11]\tval-auc:0.911595\ttrain-auc:0.909353 \n",
      "[21]\tval-auc:0.939577\ttrain-auc:0.932749 \n",
      "[31]\tval-auc:0.951598\ttrain-auc:0.945277 \n",
      "[41]\tval-auc:0.958310\ttrain-auc:0.954737 \n",
      "[51]\tval-auc:0.961212\ttrain-auc:0.960158 \n",
      "[61]\tval-auc:0.964161\ttrain-auc:0.963847 \n",
      "[71]\tval-auc:0.966993\ttrain-auc:0.967441 \n",
      "[81]\tval-auc:0.969181\ttrain-auc:0.969904 \n",
      "[91]\tval-auc:0.971063\ttrain-auc:0.971831 \n",
      "[101]\tval-auc:0.972130\ttrain-auc:0.972930 \n",
      "[111]\tval-auc:0.973900\ttrain-auc:0.974839 \n",
      "[121]\tval-auc:0.975917\ttrain-auc:0.976683 \n",
      "[131]\tval-auc:0.977016\ttrain-auc:0.977815 \n",
      "[141]\tval-auc:0.977757\ttrain-auc:0.978551 \n",
      "[151]\tval-auc:0.978870\ttrain-auc:0.979619 \n",
      "[161]\tval-auc:0.979686\ttrain-auc:0.980434 \n",
      "[171]\tval-auc:0.980279\ttrain-auc:0.981123 \n",
      "[181]\tval-auc:0.980734\ttrain-auc:0.981536 \n",
      "[191]\tval-auc:0.980910\ttrain-auc:0.981863 \n",
      "[201]\tval-auc:0.981002\ttrain-auc:0.981882 \n",
      "[211]\tval-auc:0.981012\ttrain-auc:0.981909 \n",
      "[221]\tval-auc:0.981151\ttrain-auc:0.982154 \n",
      "[231]\tval-auc:0.981151\ttrain-auc:0.982154 \n",
      "[241]\tval-auc:0.981151\ttrain-auc:0.982154 \n",
      "[251]\tval-auc:0.981151\ttrain-auc:0.982154 \n",
      "[261]\tval-auc:0.981151\ttrain-auc:0.982154 \n",
      "[271]\tval-auc:0.981151\ttrain-auc:0.982154 \n",
      "[281]\tval-auc:0.981151\ttrain-auc:0.982154 \n",
      "[291]\tval-auc:0.981151\ttrain-auc:0.982154 \n",
      "[301]\tval-auc:0.981151\ttrain-auc:0.982154 \n",
      "[311]\tval-auc:0.981151\ttrain-auc:0.982154 \n",
      "[321]\tval-auc:0.981151\ttrain-auc:0.982154 \n",
      "[331]\tval-auc:0.981151\ttrain-auc:0.982154 \n",
      "[341]\tval-auc:0.981151\ttrain-auc:0.982154 \n",
      "[351]\tval-auc:0.981151\ttrain-auc:0.982154 \n",
      "[361]\tval-auc:0.981151\ttrain-auc:0.982154 \n",
      "[371]\tval-auc:0.981151\ttrain-auc:0.982154 \n",
      "[381]\tval-auc:0.981151\ttrain-auc:0.982154 \n",
      "[391]\tval-auc:0.981151\ttrain-auc:0.982154 \n",
      "[400]\tval-auc:0.981151\ttrain-auc:0.982154 \n"
     ]
    }
   ],
   "source": [
    "xgb <- xgb.train(data = d_train,\n",
    "                  params = param,\n",
    "                  watchlist=watch,\n",
    "                  nrounds = 400,\n",
    "                  print_every_n = 10)"
   ]
  },
  {
   "cell_type": "code",
   "execution_count": 29,
   "metadata": {},
   "outputs": [],
   "source": [
    "pred_test<-matrix(predict(xgb, d_test))\n",
    "pred_train<-matrix(predict(xgb, d_train))"
   ]
  },
  {
   "cell_type": "code",
   "execution_count": 30,
   "metadata": {},
   "outputs": [],
   "source": [
    "fitted.results<-pred_test\n",
    "fitted.results2<-pred_train"
   ]
  },
  {
   "cell_type": "code",
   "execution_count": 31,
   "metadata": {},
   "outputs": [],
   "source": [
    "fitted.results <- ifelse(fitted.results >= 0.5,1,0)\n",
    "fitted.results2 <- ifelse(fitted.results2 >= 0.5,1,0)"
   ]
  },
  {
   "cell_type": "markdown",
   "metadata": {},
   "source": [
    "Confusion Matrix"
   ]
  },
  {
   "cell_type": "code",
   "execution_count": 32,
   "metadata": {},
   "outputs": [
    {
     "data": {
      "text/plain": [
       "Confusion Matrix and Statistics\n",
       "\n",
       "          Reference\n",
       "Prediction   0   1\n",
       "         0 913  69\n",
       "         1   4 171\n",
       "                                          \n",
       "               Accuracy : 0.9369          \n",
       "                 95% CI : (0.9213, 0.9502)\n",
       "    No Information Rate : 0.7926          \n",
       "    P-Value [Acc > NIR] : < 2.2e-16       \n",
       "                                          \n",
       "                  Kappa : 0.7868          \n",
       " Mcnemar's Test P-Value : 6.854e-14       \n",
       "                                          \n",
       "            Sensitivity : 0.9956          \n",
       "            Specificity : 0.7125          \n",
       "         Pos Pred Value : 0.9297          \n",
       "         Neg Pred Value : 0.9771          \n",
       "             Prevalence : 0.7926          \n",
       "         Detection Rate : 0.7891          \n",
       "   Detection Prevalence : 0.8487          \n",
       "      Balanced Accuracy : 0.8541          \n",
       "                                          \n",
       "       'Positive' Class : 0               \n",
       "                                          "
      ]
     },
     "metadata": {},
     "output_type": "display_data"
    }
   ],
   "source": [
    "confusionMatrix(fitted.results2,train_one$Patient_Tag)"
   ]
  },
  {
   "cell_type": "markdown",
   "metadata": {},
   "source": [
    "View variable importance plot"
   ]
  },
  {
   "cell_type": "code",
   "execution_count": 33,
   "metadata": {},
   "outputs": [
    {
     "data": {
      "image/png": "[encoded data removed]",
      "text/plain": [
       "plot without title"
      ]
     },
     "metadata": {},
     "output_type": "display_data"
    }
   ],
   "source": [
    "mat <- xgb.importance (feature_names = colnames(train_one),model = xgb)\n",
    "xgb.plot.importance (importance_matrix = mat[1:20]) "
   ]
  },
  {
   "cell_type": "code",
   "execution_count": 34,
   "metadata": {},
   "outputs": [],
   "source": [
    "test$Patient_Tag<-NULL\n",
    "final<-cbind(test, fitted.results)\n",
    "setnames(final,\"V1\", \"Patient_Tag\")"
   ]
  },
  {
   "cell_type": "code",
   "execution_count": 35,
   "metadata": {},
   "outputs": [
    {
     "name": "stderr",
     "output_type": "stream",
     "text": [
      "Loading required package: gplots\n",
      "\n",
      "Attaching package: 'gplots'\n",
      "\n",
      "The following object is masked from 'package:wordcloud':\n",
      "\n",
      "    textplot\n",
      "\n",
      "The following object is masked from 'package:stats':\n",
      "\n",
      "    lowess\n",
      "\n"
     ]
    },
    {
     "data": {
      "image/png": "[encoded data removed]",
      "text/plain": [
       "plot without title"
      ]
     },
     "metadata": {},
     "output_type": "display_data"
    }
   ],
   "source": [
    "library(ROCR)\n",
    "ROCRpred <- prediction(pred_train, train_one$Patient_Tag)\n",
    "ROCRperf <- performance(ROCRpred, 'tpr','fpr')\n",
    "plot(ROCRperf, colorize = TRUE, text.adj = c(-0.2,1.7))"
   ]
  },
  {
   "cell_type": "code",
   "execution_count": 36,
   "metadata": {},
   "outputs": [],
   "source": [
    "auc <- performance(ROCRpred, measure = \"auc\")\n",
    "auc <- auc@y.values[[1]]"
   ]
  },
  {
   "cell_type": "code",
   "execution_count": 37,
   "metadata": {},
   "outputs": [
    {
     "data": {
      "text/html": [
       "0.982154216648491"
      ],
      "text/latex": [
       "0.982154216648491"
      ],
      "text/markdown": [
       "0.982154216648491"
      ],
      "text/plain": [
       "[1] 0.9821542"
      ]
     },
     "metadata": {},
     "output_type": "display_data"
    }
   ],
   "source": [
    "auc"
   ]
  }
 ],
 "metadata": {
  "kernelspec": {
   "display_name": "R",
   "language": "R",
   "name": "ir"
  },
  "language_info": {
   "codemirror_mode": "r",
   "file_extension": ".r",
   "mimetype": "text/x-r-source",
   "name": "R",
   "pygments_lexer": "r",
   "version": "3.4.3"
  }
 },
 "nbformat": 4,
 "nbformat_minor": 2
}
